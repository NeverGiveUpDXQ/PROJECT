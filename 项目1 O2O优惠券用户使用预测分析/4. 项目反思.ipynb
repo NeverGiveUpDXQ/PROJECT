{
 "cells": [
  {
   "cell_type": "markdown",
   "metadata": {},
   "source": [
    "单独从划窗的角度去提升，除了用多个划窗，最后加权融合，还有一个就是需要你将单条继续细分。比如我这个比赛，我刚开始是按车型分，统计销量的时候直接把同车型不同配置的车的销量都合并了。而实际上，细分配置用划窗，效果更好。能替代成绩从0.95提升到了0.92。我们还尝试把在纯划窗里面加其他构造的特征，效果基本没有提升，还可能下降。。。\n",
    "\n",
    "对了对了，添加特征的时候，有一种特征不能要哦。他们叫穿越特征，就是你吧未来时间才有的特征的信息加到你构造的新的特征里面了。比如，你想用2017年数据做验证集，用2012-2016年数据做训练集。而你，好巧不巧的在特征里面加了一列包含2017年潜在信息（比如你取了2012-2017年的平均数），这样子可能的后果就是你的线下分数很好，但是线上超级差。。。\n"
   ]
  },
  {
   "cell_type": "markdown",
   "metadata": {},
   "source": [
    "【机器学习】天池O2O优惠券使用预测_系统性总结与心得<br>\n",
    "https://blog.csdn.net/orsonV/article/details/83509414?utm_medium=distribute.pc_relevant.none-task-blog-BlogCommendFromMachineLearnPai2-1.channel_param&depth_1-utm_source=distribute.pc_relevant.none-task-blog-BlogCommendFromMachineLearnPai2-1.channel_param"
   ]
  },
  {
   "cell_type": "markdown",
   "metadata": {},
   "source": [
    "# 为什么会使用AUC？\n",
    "首先，AUC是ROC曲线下面积。我们在数据处理的过程中也发现正负样本不平均，ROC曲线能够保持不变，波动比较小。"
   ]
  },
  {
   "cell_type": "code",
   "execution_count": null,
   "metadata": {},
   "outputs": [],
   "source": []
  }
 ],
 "metadata": {
  "kernelspec": {
   "display_name": "Python 3",
   "language": "python",
   "name": "python3"
  },
  "language_info": {
   "codemirror_mode": {
    "name": "ipython",
    "version": 3
   },
   "file_extension": ".py",
   "mimetype": "text/x-python",
   "name": "python",
   "nbconvert_exporter": "python",
   "pygments_lexer": "ipython3",
   "version": "3.7.4"
  }
 },
 "nbformat": 4,
 "nbformat_minor": 2
}
